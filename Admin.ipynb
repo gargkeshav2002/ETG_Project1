{
 "cells": [
  {
   "cell_type": "code",
   "execution_count": 1,
   "id": "6bf7cdcf",
   "metadata": {},
   "outputs": [],
   "source": [
    "import json"
   ]
  },
  {
   "cell_type": "code",
   "execution_count": 2,
   "id": "2d2e8ab6",
   "metadata": {},
   "outputs": [],
   "source": [
    "record= {\"1\": {\"name\": \"Bag\", \"p\": 100, \"q\": 50}, \"2\": {\"name\": \"Pen\", \"p\": 10, \"q\": 60}, \"3\": {\"name\": \"Bottle\", \"p\": 50, \"q\": 60}, \"4\": {\"name\": \"Geometry Box\", \"p\": 100, \"q\": 30}, \"5\": {\"name\": \"Eraser\", \"p\": 5, \"q\": 100}, \"6\": {\"name\": \"Cake\", \"p\": 250, \"q\": 10}, \"7\": {\"name\": \"Chocolate\", \"p\": 20, \"q\": 60}, \"8\": {\"name\": \"Colors\", \"p\": 50, \"q\": 30}, \"9\": {\"name\": \"Pencil\", \"p\": 2, \"q\": 200}, \"10\": {\"name\": \"Keyboard\", \"p\": 200, \"q\": 20}, \"11\": {\"name\": \"Mouse\", \"p\": 150, \"q\": 30}, \"12\": {\"name\": \"Microphone\", \"p\": 200, \"q\": 20}, \"13\": {\"name\": \"Camera\", \"p\": 2000, \"q\": 10}, \"14\": {\"name\": \"Notebook\", \"p\": 20, \"q\": 50}, \"15\": {\"name\": \"File\", \"p\": 50, \"q\": 50}, \"16\": {\"name\": \"Mat\", \"p\": 80, \"q\": 30}, \"17\": {\"name\": \"Phone cover\", \"p\": 100, \"q\": 30}, \"18\": {\"name\": \"Chalk\", \"p\": 10, \"q\": 40}, \"19\": {\"name\": \"Sanitizer\", \"p\": 50, \"q\": 200}, \"20\": {\"name\": \"Pendrive\", \"p\": 200, \"q\": 10}, \"21\": {\"name\": \"Speaker\", \"p\": 300, \"q\": 5}, \"22\": {\"name\": \"Curtains\", \"p\": 200, \"q\": 5}, \"23\": {\"name\": \"Photo Frames\", \"p\": 100, \"q\": 30}, \"24\": {\"name\": \"Jute Bags\", \"p\": 10, \"q\": 100}, \"25\": {\"name\": \"Spectacles\", \"p\": 100, \"q\": 30}, \"26\": {\"name\": \"Stickers\", \"p\": 2, \"q\": 500}, \"27\": {\"name\": \"Belt\", \"p\": 100, \"q\": 10}, \"28\": {\"name\": \"Charger\", \"p\": 50, \"q\": 50}, \"29\": {\"name\": \"Chain\", \"p\": 60, \"q\": 30}, \"30\": {\"name\": \"Mask\", \"p\": 20, \"q\": 100}}"
   ]
  },
  {
   "cell_type": "markdown",
   "id": "bf35ab93",
   "metadata": {},
   "source": [
    "# Add New Item"
   ]
  },
  {
   "cell_type": "code",
   "execution_count": 31,
   "id": "2217ef0e",
   "metadata": {},
   "outputs": [
    {
     "name": "stdout",
     "output_type": "stream",
     "text": [
      "Enter product id:30\n",
      "Enter name:Mask\n",
      "Enter price:20\n",
      "Enter quantity:100\n"
     ]
    }
   ],
   "source": [
    "pid = str(input(\"Enter product id:\"))\n",
    "name = str(input(\"Enter name:\"))\n",
    "p = int(input(\"Enter price:\"))\n",
    "q = int(input(\"Enter quantity:\"))\n",
    "\n",
    "record[pid] = {'name': name, 'p': p, 'q': q}\n",
    "\n",
    "fd = open(\"record.json\",'w')\n",
    "js = json.dumps(record)\n",
    "fd.write(js)\n",
    "fd.close()"
   ]
  },
  {
   "cell_type": "markdown",
   "id": "0f207121",
   "metadata": {},
   "source": [
    "# Read Items"
   ]
  },
  {
   "cell_type": "code",
   "execution_count": 36,
   "id": "82d5f408",
   "metadata": {},
   "outputs": [
    {
     "data": {
      "text/plain": [
       "{'1': {'name': 'Bag', 'p': 100, 'q': 50},\n",
       " '2': {'name': 'Pen', 'p': 10, 'q': 60},\n",
       " '3': {'name': 'Bottle', 'p': 50, 'q': 60},\n",
       " '4': {'name': 'Geometry Box', 'p': 100, 'q': 30},\n",
       " '5': {'name': 'Eraser', 'p': 5, 'q': 100},\n",
       " '6': {'name': 'Cake', 'p': 250, 'q': 10},\n",
       " '7': {'name': 'Chocolate', 'p': 20, 'q': 60},\n",
       " '8': {'name': 'Colors', 'p': 50, 'q': 30},\n",
       " '9': {'name': 'Pencil', 'p': 2, 'q': 200},\n",
       " '10': {'name': 'Keyboard', 'p': 200, 'q': 20},\n",
       " '11': {'name': 'Mouse', 'p': 150, 'q': 30},\n",
       " '12': {'name': 'Microphone', 'p': 200, 'q': 20},\n",
       " '13': {'name': 'Camera', 'p': 2000, 'q': 10},\n",
       " '14': {'name': 'Notebook', 'p': 20, 'q': 50},\n",
       " '15': {'name': 'File', 'p': 50, 'q': 50},\n",
       " '16': {'name': 'Mat', 'p': 80, 'q': 30},\n",
       " '17': {'name': 'Phone cover', 'p': 100, 'q': 30},\n",
       " '18': {'name': 'Chalk', 'p': 10, 'q': 40},\n",
       " '19': {'name': 'Sanitizer', 'p': 50, 'q': 200},\n",
       " '20': {'name': 'Pendrive', 'p': 200, 'q': 10},\n",
       " '21': {'name': 'Speaker', 'p': 300, 'q': 5},\n",
       " '22': {'name': 'Curtains', 'p': 200, 'q': 5},\n",
       " '23': {'name': 'Photo Frames', 'p': 100, 'q': 30},\n",
       " '24': {'name': 'Jute Bags', 'p': 10, 'q': 100},\n",
       " '25': {'name': 'Spectacles', 'p': 100, 'q': 30},\n",
       " '26': {'name': 'Stickers', 'p': 2, 'q': 500},\n",
       " '27': {'name': 'Belt', 'p': 100, 'q': 10},\n",
       " '28': {'name': 'Charger', 'p': 50, 'q': 50},\n",
       " '29': {'name': 'Chain', 'p': 60, 'q': 30},\n",
       " '30': {'name': 'Mask', 'p': 20, 'q': 100}}"
      ]
     },
     "execution_count": 36,
     "metadata": {},
     "output_type": "execute_result"
    }
   ],
   "source": [
    "fd = open(\"record.json\",'r')\n",
    "r = fd.read()\n",
    "fd.close()\n",
    "\n",
    "record = json.loads(r)\n",
    "    \n",
    "record"
   ]
  },
  {
   "cell_type": "markdown",
   "id": "49358cf1",
   "metadata": {},
   "source": [
    "# Update Items"
   ]
  },
  {
   "cell_type": "code",
   "execution_count": 5,
   "id": "e68e114e",
   "metadata": {},
   "outputs": [
    {
     "name": "stdout",
     "output_type": "stream",
     "text": [
      "Enter product id:5\n",
      "Enter Updated details or the same details if no updation is there!\n",
      "Enter name:Scale\n",
      "Enter price:5\n",
      "Enter quantity:50\n"
     ]
    }
   ],
   "source": [
    "pid = str(input(\"Enter product id:\"))\n",
    "\n",
    "print(\"Enter Updated details or the same details if no updation is there!\")\n",
    "name = str(input(\"Enter name:\"))\n",
    "p = int(input(\"Enter price:\"))\n",
    "q = int(input(\"Enter quantity:\"))\n",
    "\n",
    "fd = open(\"record.json\",'w')\n",
    "\n",
    "for i in record:\n",
    "    if pid == i:\n",
    "        record[pid] = {'name': name, 'p': p, 'q': q}\n",
    "        js = json.dumps(record)\n",
    "        fd.write(js)\n",
    "\n",
    "fd.close()\n"
   ]
  },
  {
   "cell_type": "markdown",
   "id": "549c3945",
   "metadata": {},
   "source": [
    "# Delete item from record "
   ]
  },
  {
   "cell_type": "code",
   "execution_count": 12,
   "id": "271fd2c2",
   "metadata": {},
   "outputs": [
    {
     "name": "stdout",
     "output_type": "stream",
     "text": [
      "Enter id to delete: 7\n"
     ]
    },
    {
     "data": {
      "text/plain": [
       "{'1': {'name': 'Bag', 'p': 100, 'q': 50},\n",
       " '2': {'name': 'Pen', 'p': 10, 'q': 60},\n",
       " '3': {'name': 'Bottle', 'p': 50, 'q': 60},\n",
       " '4': {'name': 'Geometry Box', 'p': 100, 'q': 30},\n",
       " '5': {'name': 'Eraser', 'p': 5, 'q': 100},\n",
       " '6': {'name': 'Pencil', 'p': 2, 'q': 100},\n",
       " '7': {'name': 'deleted item', 'p': '---------', 'q': '----------'}}"
      ]
     },
     "execution_count": 12,
     "metadata": {},
     "output_type": "execute_result"
    }
   ],
   "source": [
    "pid= str(input(\"Enter id to delete: \"))\n",
    "\n",
    "fd = open(\"record.json\",'w')\n",
    "\n",
    "for i in record:\n",
    "    if pid == i:\n",
    "        record[pid] = {'name': 'deleted item', 'p': '---------', 'q': '----------'}\n",
    "        js = json.dumps(record)\n",
    "        fd.write(js)\n",
    "\n",
    "fd.close()\n",
    "\n",
    "record"
   ]
  }
 ],
 "metadata": {
  "kernelspec": {
   "display_name": "Python 3",
   "language": "python",
   "name": "python3"
  },
  "language_info": {
   "codemirror_mode": {
    "name": "ipython",
    "version": 3
   },
   "file_extension": ".py",
   "mimetype": "text/x-python",
   "name": "python",
   "nbconvert_exporter": "python",
   "pygments_lexer": "ipython3",
   "version": "3.9.4"
  }
 },
 "nbformat": 4,
 "nbformat_minor": 5
}
