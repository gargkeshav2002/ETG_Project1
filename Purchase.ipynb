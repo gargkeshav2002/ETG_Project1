{
 "cells": [
  {
   "cell_type": "markdown",
   "id": "c1b95728",
   "metadata": {},
   "source": [
    "# Read Inventory"
   ]
  },
  {
   "cell_type": "code",
   "execution_count": 1,
   "id": "52d5dcc7",
   "metadata": {},
   "outputs": [
    {
     "data": {
      "text/plain": [
       "{'1': {'name': 'Bag', 'p': 100, 'q': 50},\n",
       " '2': {'name': 'Pen', 'p': 10, 'q': 60},\n",
       " '3': {'name': 'Bottle', 'p': 50, 'q': 60},\n",
       " '4': {'name': 'Geometry Box', 'p': 100, 'q': 30},\n",
       " '5': {'name': 'Eraser', 'p': 5, 'q': 100},\n",
       " '6': {'name': 'Cake', 'p': 250, 'q': 10},\n",
       " '7': {'name': 'Chocolate', 'p': 20, 'q': 60},\n",
       " '8': {'name': 'Colors', 'p': 50, 'q': 30},\n",
       " '9': {'name': 'Pencil', 'p': 2, 'q': 200},\n",
       " '10': {'name': 'Keyboard', 'p': 200, 'q': 20},\n",
       " '11': {'name': 'Mouse', 'p': 150, 'q': 30},\n",
       " '12': {'name': 'Microphone', 'p': 200, 'q': 20},\n",
       " '13': {'name': 'Camera', 'p': 2000, 'q': 10},\n",
       " '14': {'name': 'Notebook', 'p': 20, 'q': 50},\n",
       " '15': {'name': 'File', 'p': 50, 'q': 50},\n",
       " '16': {'name': 'Mat', 'p': 80, 'q': 30},\n",
       " '17': {'name': 'Phone cover', 'p': 100, 'q': 30},\n",
       " '18': {'name': 'Chalk', 'p': 10, 'q': 40},\n",
       " '19': {'name': 'Sanitizer', 'p': 50, 'q': 200},\n",
       " '20': {'name': 'Pendrive', 'p': 200, 'q': 10},\n",
       " '21': {'name': 'Speaker', 'p': 300, 'q': 5},\n",
       " '22': {'name': 'Curtains', 'p': 200, 'q': 5},\n",
       " '23': {'name': 'Photo Frames', 'p': 100, 'q': 30},\n",
       " '24': {'name': 'Jute Bags', 'p': 10, 'q': 100},\n",
       " '25': {'name': 'Spectacles', 'p': 100, 'q': 30},\n",
       " '26': {'name': 'Stickers', 'p': 2, 'q': 500},\n",
       " '27': {'name': 'Belt', 'p': 100, 'q': 10},\n",
       " '28': {'name': 'Charger', 'p': 50, 'q': 50},\n",
       " '29': {'name': 'Chain', 'p': 60, 'q': 30},\n",
       " '30': {'name': 'Mask', 'p': 20, 'q': 100}}"
      ]
     },
     "execution_count": 1,
     "metadata": {},
     "output_type": "execute_result"
    }
   ],
   "source": [
    "import json\n",
    "\n",
    "sale= {\"8\": {\"name\": \"Cake\", \"p\": 30, \"q\": 10, \"amount\": 300}, \"2\": {\"name\": \"Pen\", \"p\": 10, \"q\": 10, \"amount\": 100}}\n",
    "\n",
    "fd = open(\"record.json\",'r')\n",
    "r = fd.read()\n",
    "fd.close()\n",
    "\n",
    "record = json.loads(r)\n",
    "\n",
    "record"
   ]
  },
  {
   "cell_type": "markdown",
   "id": "0d258d00",
   "metadata": {},
   "source": [
    "# Purchase"
   ]
  },
  {
   "cell_type": "code",
   "execution_count": 4,
   "id": "953a0973",
   "metadata": {},
   "outputs": [
    {
     "name": "stdout",
     "output_type": "stream",
     "text": [
      "Enter the product_Id: 2\n",
      "Enter the quantity: 10\n",
      "Product:  Pen\n",
      "Price:  10\n",
      "Billing Amount:  100\n"
     ]
    }
   ],
   "source": [
    "uip  = str(input(\"Enter the product_Id: \"))\n",
    "uiq = int(input(\"Enter the quantity: \"))\n",
    "\n",
    "\n",
    "print(\"Product: \", record[uip]['name'])\n",
    "print(\"Price: \", record[uip]['p'])\n",
    "print(\"Billing Amount: \", record[uip]['p'] * uiq)"
   ]
  },
  {
   "cell_type": "markdown",
   "id": "31ae63ff",
   "metadata": {},
   "source": [
    "# Update after Purchase"
   ]
  },
  {
   "cell_type": "code",
   "execution_count": 5,
   "id": "11eeb97a",
   "metadata": {},
   "outputs": [
    {
     "data": {
      "text/plain": [
       "{'1': {'name': 'Bag', 'p': 100, 'q': 50},\n",
       " '2': {'name': 'Pen', 'p': 10, 'q': 50},\n",
       " '3': {'name': 'Bottle', 'p': 50, 'q': 60},\n",
       " '4': {'name': 'Geometry Box', 'p': 100, 'q': 30},\n",
       " '5': {'name': 'Eraser', 'p': 5, 'q': 100},\n",
       " '6': {'name': 'Cake', 'p': 250, 'q': 10},\n",
       " '7': {'name': 'Chocolate', 'p': 20, 'q': 60},\n",
       " '8': {'name': 'Colors', 'p': 50, 'q': 30},\n",
       " '9': {'name': 'Pencil', 'p': 2, 'q': 200},\n",
       " '10': {'name': 'Keyboard', 'p': 200, 'q': 20},\n",
       " '11': {'name': 'Mouse', 'p': 150, 'q': 30},\n",
       " '12': {'name': 'Microphone', 'p': 200, 'q': 20},\n",
       " '13': {'name': 'Camera', 'p': 2000, 'q': 10},\n",
       " '14': {'name': 'Notebook', 'p': 20, 'q': 50},\n",
       " '15': {'name': 'File', 'p': 50, 'q': 50},\n",
       " '16': {'name': 'Mat', 'p': 80, 'q': 30},\n",
       " '17': {'name': 'Phone cover', 'p': 100, 'q': 30},\n",
       " '18': {'name': 'Chalk', 'p': 10, 'q': 40},\n",
       " '19': {'name': 'Sanitizer', 'p': 50, 'q': 200},\n",
       " '20': {'name': 'Pendrive', 'p': 200, 'q': 10},\n",
       " '21': {'name': 'Speaker', 'p': 300, 'q': 5},\n",
       " '22': {'name': 'Curtains', 'p': 200, 'q': 5},\n",
       " '23': {'name': 'Photo Frames', 'p': 100, 'q': 30},\n",
       " '24': {'name': 'Jute Bags', 'p': 10, 'q': 100},\n",
       " '25': {'name': 'Spectacles', 'p': 100, 'q': 30},\n",
       " '26': {'name': 'Stickers', 'p': 2, 'q': 500},\n",
       " '27': {'name': 'Belt', 'p': 100, 'q': 10},\n",
       " '28': {'name': 'Charger', 'p': 50, 'q': 50},\n",
       " '29': {'name': 'Chain', 'p': 60, 'q': 30},\n",
       " '30': {'name': 'Mask', 'p': 20, 'q': 100}}"
      ]
     },
     "execution_count": 5,
     "metadata": {},
     "output_type": "execute_result"
    }
   ],
   "source": [
    "fd = open(\"record.json\",'w')\n",
    "\n",
    "for i in record:\n",
    "    if uip == i:\n",
    "        record[uip]['q'] = record[uip]['q'] - uiq\n",
    "        js = json.dumps(record)\n",
    "        fd.write(js)\n",
    "\n",
    "fd.close()\n",
    "\n",
    "fd = open(\"record.json\",'r')\n",
    "r = fd.read()\n",
    "fd.close()\n",
    "\n",
    "record = json.loads(r)\n",
    "\n",
    "record"
   ]
  },
  {
   "cell_type": "markdown",
   "id": "5a3bdffa",
   "metadata": {},
   "source": [
    "# Sales"
   ]
  },
  {
   "cell_type": "code",
   "execution_count": 6,
   "id": "ee211ca1",
   "metadata": {},
   "outputs": [
    {
     "data": {
      "text/plain": [
       "{'name': 'Pen', 'prod': '2', 'p': 10, 'q': 10, 'amount': 100}"
      ]
     },
     "execution_count": 6,
     "metadata": {},
     "output_type": "execute_result"
    }
   ],
   "source": [
    "{'name': record[uip]['name'], 'prod':uip, 'p': record[uip]['p'], 'q': uiq, 'amount': record[uip]['p'] * uiq}"
   ]
  },
  {
   "cell_type": "code",
   "execution_count": 7,
   "id": "c2b19bda",
   "metadata": {},
   "outputs": [],
   "source": [
    "sale[uip]= {'name': record[uip]['name'], 'p': record[uip]['p'], 'q': uiq, 'amount': record[uip]['p'] * uiq}\n",
    "\n",
    "fd = open(\"sale.json\",'w')\n",
    "js = json.dumps(sale)\n",
    "fd.write(js)\n",
    "fd.close()\n",
    "\n"
   ]
  },
  {
   "cell_type": "code",
   "execution_count": 8,
   "id": "14650c7c",
   "metadata": {},
   "outputs": [
    {
     "data": {
      "text/plain": [
       "{'8': {'name': 'Cake', 'p': 30, 'q': 10, 'amount': 300},\n",
       " '2': {'name': 'Pen', 'p': 10, 'q': 10, 'amount': 100}}"
      ]
     },
     "execution_count": 8,
     "metadata": {},
     "output_type": "execute_result"
    }
   ],
   "source": [
    "fd = open(\"sale.json\",'r')\n",
    "r = fd.read()\n",
    "fd.close()\n",
    "\n",
    "sale = json.loads(r)\n",
    "\n",
    "sale"
   ]
  },
  {
   "cell_type": "code",
   "execution_count": null,
   "id": "087f945a",
   "metadata": {},
   "outputs": [],
   "source": []
  }
 ],
 "metadata": {
  "kernelspec": {
   "display_name": "Python 3",
   "language": "python",
   "name": "python3"
  },
  "language_info": {
   "codemirror_mode": {
    "name": "ipython",
    "version": 3
   },
   "file_extension": ".py",
   "mimetype": "text/x-python",
   "name": "python",
   "nbconvert_exporter": "python",
   "pygments_lexer": "ipython3",
   "version": "3.9.4"
  }
 },
 "nbformat": 4,
 "nbformat_minor": 5
}
