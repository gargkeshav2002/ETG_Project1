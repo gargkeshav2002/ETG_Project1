{
 "cells": [
  {
   "cell_type": "markdown",
   "id": "c1b95728",
   "metadata": {},
   "source": [
    "# Read Inventory"
   ]
  },
  {
   "cell_type": "code",
   "execution_count": 45,
   "id": "52d5dcc7",
   "metadata": {},
   "outputs": [
    {
     "data": {
      "text/plain": [
       "{'1': {'name': 'Bag', 'p': 100, 'q': 50},\n",
       " '2': {'name': 'Pen', 'p': 10, 'q': 60},\n",
       " '3': {'name': 'Bottle', 'p': 50, 'q': 60},\n",
       " '4': {'name': 'Geometry Box', 'p': 100, 'q': 30},\n",
       " '5': {'name': 'Eraser', 'p': 5, 'q': 100},\n",
       " '6': {'name': 'Pencil', 'p': 2, 'q': 100},\n",
       " '7': {'name': 'deleted item', 'p': '---------', 'q': '----------'},\n",
       " '8': {'name': 'Cake', 'p': 30, 'q': 40}}"
      ]
     },
     "execution_count": 45,
     "metadata": {},
     "output_type": "execute_result"
    }
   ],
   "source": [
    "import json\n",
    "\n",
    "sale= {\"8\": {\"name\": \"Cake\", \"p\": 30, \"q\": 10, \"amount\": 300}, \"2\": {\"name\": \"Pen\", \"p\": 10, \"q\": 10, \"amount\": 100}}\n",
    "\n",
    "fd = open(\"record.json\",'r')\n",
    "r = fd.read()\n",
    "fd.close()\n",
    "\n",
    "record = json.loads(r)\n",
    "\n",
    "record"
   ]
  },
  {
   "cell_type": "markdown",
   "id": "0d258d00",
   "metadata": {},
   "source": [
    "# Purchase"
   ]
  },
  {
   "cell_type": "code",
   "execution_count": 46,
   "id": "953a0973",
   "metadata": {},
   "outputs": [
    {
     "name": "stdout",
     "output_type": "stream",
     "text": [
      "Enter the product_Id: 2\n",
      "Enter the quantity: 10\n",
      "Product:  Pen\n",
      "Price:  10\n",
      "Billing Amount:  100\n"
     ]
    }
   ],
   "source": [
    "uip  = str(input(\"Enter the product_Id: \"))\n",
    "uiq = int(input(\"Enter the quantity: \"))\n",
    "\n",
    "\n",
    "print(\"Product: \", record[uip]['name'])\n",
    "print(\"Price: \", record[uip]['p'])\n",
    "print(\"Billing Amount: \", record[uip]['p'] * uiq)"
   ]
  },
  {
   "cell_type": "markdown",
   "id": "31ae63ff",
   "metadata": {},
   "source": [
    "# Update after Purchase"
   ]
  },
  {
   "cell_type": "code",
   "execution_count": 47,
   "id": "11eeb97a",
   "metadata": {},
   "outputs": [
    {
     "data": {
      "text/plain": [
       "{'1': {'name': 'Bag', 'p': 100, 'q': 50},\n",
       " '2': {'name': 'Pen', 'p': 10, 'q': 50},\n",
       " '3': {'name': 'Bottle', 'p': 50, 'q': 60},\n",
       " '4': {'name': 'Geometry Box', 'p': 100, 'q': 30},\n",
       " '5': {'name': 'Eraser', 'p': 5, 'q': 100},\n",
       " '6': {'name': 'Pencil', 'p': 2, 'q': 100},\n",
       " '7': {'name': 'deleted item', 'p': '---------', 'q': '----------'},\n",
       " '8': {'name': 'Cake', 'p': 30, 'q': 40}}"
      ]
     },
     "execution_count": 47,
     "metadata": {},
     "output_type": "execute_result"
    }
   ],
   "source": [
    "fd = open(\"record.json\",'w')\n",
    "\n",
    "for i in record:\n",
    "    if uip == i:\n",
    "        record[uip]['q'] = record[uip]['q'] - uiq\n",
    "        js = json.dumps(record)\n",
    "        fd.write(js)\n",
    "\n",
    "fd.close()\n",
    "\n",
    "fd = open(\"record.json\",'r')\n",
    "r = fd.read()\n",
    "fd.close()\n",
    "\n",
    "record = json.loads(r)\n",
    "\n",
    "record"
   ]
  },
  {
   "cell_type": "markdown",
   "id": "5a3bdffa",
   "metadata": {},
   "source": [
    "# Sales"
   ]
  },
  {
   "cell_type": "code",
   "execution_count": 48,
   "id": "ee211ca1",
   "metadata": {},
   "outputs": [
    {
     "data": {
      "text/plain": [
       "{'name': 'Pen', 'prod': '2', 'p': 10, 'q': 10, 'amount': 100}"
      ]
     },
     "execution_count": 48,
     "metadata": {},
     "output_type": "execute_result"
    }
   ],
   "source": [
    "{'name': record[uip]['name'], 'prod':uip, 'p': record[uip]['p'], 'q': uiq, 'amount': record[uip]['p'] * uiq}"
   ]
  },
  {
   "cell_type": "code",
   "execution_count": 49,
   "id": "c2b19bda",
   "metadata": {},
   "outputs": [],
   "source": [
    "sale[uip]= {'name': record[uip]['name'], 'p': record[uip]['p'], 'q': uiq, 'amount': record[uip]['p'] * uiq}\n",
    "\n",
    "fd = open(\"sale.json\",'w')\n",
    "js = json.dumps(sale)\n",
    "fd.write(js)\n",
    "fd.close()\n",
    "\n"
   ]
  },
  {
   "cell_type": "code",
   "execution_count": 50,
   "id": "14650c7c",
   "metadata": {},
   "outputs": [
    {
     "data": {
      "text/plain": [
       "{'8': {'name': 'Cake', 'p': 30, 'q': 10, 'amount': 300},\n",
       " '2': {'name': 'Pen', 'p': 10, 'q': 10, 'amount': 100}}"
      ]
     },
     "execution_count": 50,
     "metadata": {},
     "output_type": "execute_result"
    }
   ],
   "source": [
    "fd = open(\"sale.json\",'r')\n",
    "r = fd.read()\n",
    "fd.close()\n",
    "\n",
    "sale = json.loads(r)\n",
    "\n",
    "sale"
   ]
  }
 ],
 "metadata": {
  "kernelspec": {
   "display_name": "Python 3",
   "language": "python",
   "name": "python3"
  },
  "language_info": {
   "codemirror_mode": {
    "name": "ipython",
    "version": 3
   },
   "file_extension": ".py",
   "mimetype": "text/x-python",
   "name": "python",
   "nbconvert_exporter": "python",
   "pygments_lexer": "ipython3",
   "version": "3.9.4"
  }
 },
 "nbformat": 4,
 "nbformat_minor": 5
}
